{
 "cells": [
  {
   "cell_type": "markdown",
   "id": "4cb032a1",
   "metadata": {},
   "source": [
    "# Group Convo Analysis"
   ]
  },
  {
   "cell_type": "markdown",
   "id": "f72b317d",
   "metadata": {},
   "source": [
    "## Datasets"
   ]
  },
  {
   "cell_type": "markdown",
   "id": "fa8c80b0",
   "metadata": {},
   "source": [
    "Datasets used in the following experiments:\n",
    "\n",
    "1) GAP corpus\n",
    "2) UGI corpus\n",
    "\n",
    "The GAP corpus differs from the UGI corpus in that the GAP corpus has more metadata. Important metadata only in the GAP corpus includes utterance 'Duration' and 'End' metadata fields (describe temporal length of utterance). Features that depend on such metadata will therefore be exclusive to the GAP corpus."
   ]
  },
  {
   "cell_type": "markdown",
   "id": "9274bed8",
   "metadata": {},
   "source": [
    "## Analysis"
   ]
  },
  {
   "cell_type": "markdown",
   "id": "7ab9f638-41e2-4b8f-8b3c-002c69e12bbe",
   "metadata": {},
   "source": [
    "### Loading Data"
   ]
  },
  {
   "cell_type": "code",
   "execution_count": 1,
   "id": "25e70f1c-d7f0-485b-95b2-cec1479687c5",
   "metadata": {},
   "outputs": [],
   "source": [
    "import pandas as pd\n",
    "import numpy as np\n",
    "import matplotlib.pyplot as plt\n",
    "from sklearn.model_selection import KFold\n",
    "from sklearn.linear_model import LinearRegression\n",
    "from sklearn.metrics import mean_squared_error, r2_score"
   ]
  },
  {
   "cell_type": "code",
   "execution_count": 3,
   "id": "2ad36fe2-48ac-4a68-94a3-becc1fb6c6f9",
   "metadata": {},
   "outputs": [],
   "source": [
    "csv_path = '../../csv'\n",
    "\n",
    "gap_align = pd.read_csv(f'{csv_path}/gap-align.csv')\n",
    "gap_dom = pd.read_csv(f'{csv_path}/gap-dom.csv')\n",
    "gap_meta = pd.read_csv(f'{csv_path}/gap-meta.csv')\n",
    "gap_polite = pd.read_csv(f'{csv_path}/gap-polite.csv')\n",
    "gap_psych = pd.read_csv(f'{csv_path}/gap-psych.csv')\n",
    "\n",
    "ugi_align = pd.read_csv(f'{csv_path}/ugi-align.csv')\n",
    "ugi_dom = pd.read_csv(f'{csv_path}/ugi-dom.csv')\n",
    "ugi_meta = pd.read_csv(f'{csv_path}/ugi-meta.csv')\n",
    "ugi_polite = pd.read_csv(f'{csv_path}/ugi-polite.csv')\n",
    "ugi_psych = pd.read_csv(f'{csv_path}/ugi-psych.csv')"
   ]
  },
  {
   "cell_type": "markdown",
   "id": "b85fe964-b297-44b1-b193-adac1d914ca6",
   "metadata": {},
   "source": [
    "### Merging Data Groups"
   ]
  },
  {
   "cell_type": "markdown",
   "id": "09a6d919-6d43-4c00-9e8f-77be0d7a077d",
   "metadata": {},
   "source": [
    "Each data group from the GAP corpus is merged with its UGI counterpart. Since some features are exclusive to the GAP corpus, analysis will also be performed on the GAP corpus  "
   ]
  },
  {
   "cell_type": "code",
   "execution_count": null,
   "id": "2b4d1b10-509a-406b-a4ad-0b37e8e49f45",
   "metadata": {},
   "outputs": [],
   "source": []
  },
  {
   "cell_type": "markdown",
   "id": "4ff4707d",
   "metadata": {},
   "source": [
    "ANALYSIS TYPES\n",
    "correlation, predictive (AGS)\n",
    "\n",
    "ALGORITHMS\n",
    "linear regression (baseline)\n",
    "random forest\n",
    "gradient boosted tree\n",
    "\n",
    "PROCESS\n",
    "5-fold cross validation\n",
    "feature selection?\n",
    "scatterplots/lineplots\n",
    "\n",
    "EVALUTATION\n",
    "mean squared error\n",
    "\n",
    "GROUPS\n",
    "align, dom, ...\n",
    "\n"
   ]
  },
  {
   "cell_type": "markdown",
   "id": "cad4d8df",
   "metadata": {},
   "source": [
    "### Linear Regression"
   ]
  },
  {
   "cell_type": "code",
   "execution_count": null,
   "id": "aea9ca8f",
   "metadata": {},
   "outputs": [],
   "source": [
    "X = df.drop()\n",
    "\n",
    "\n",
    "kf = KFold(n_splits=10)\n",
    "\n",
    "preds_cv = []\n",
    "\n",
    "for train, test in kf.split(X):\n",
    "    X_cv = X.iloc[train]\n",
    "    y_cv = y.iloc[train]\n",
    "    \n",
    "    X_cv_test = X.iloc[test]\n",
    "    \n",
    "    lm_cv = LinearRegression()\n",
    "    lm_cv.fit(X_cv, y_cv)\n",
    "    preds = lm_cv.predict(X_cv_test)\n",
    "    preds_cv += list(preds)\n",
    "\n",
    "mse_cv = mean_squared_error(y, preds_cv)\n",
    "print(\"The MSE using cross validation on the entire dataset is %s\" % mse_cv)\n",
    "\n",
    "plt.figure()\n",
    "plt.scatter(y, preds_cv)\n",
    "plt.show()"
   ]
  },
  {
   "cell_type": "code",
   "execution_count": null,
   "id": "4ef99aec",
   "metadata": {},
   "outputs": [],
   "source": []
  },
  {
   "cell_type": "code",
   "execution_count": null,
   "id": "3a726fa6",
   "metadata": {},
   "outputs": [],
   "source": []
  }
 ],
 "metadata": {
  "kernelspec": {
   "display_name": "Python 3 (ipykernel)",
   "language": "python",
   "name": "python3"
  },
  "language_info": {
   "codemirror_mode": {
    "name": "ipython",
    "version": 3
   },
   "file_extension": ".py",
   "mimetype": "text/x-python",
   "name": "python",
   "nbconvert_exporter": "python",
   "pygments_lexer": "ipython3",
   "version": "3.11.4"
  }
 },
 "nbformat": 4,
 "nbformat_minor": 5
}
