{
 "cells": [
  {
   "cell_type": "markdown",
   "id": "4cb032a1",
   "metadata": {},
   "source": [
    "# Group Convo Analysis"
   ]
  },
  {
   "cell_type": "markdown",
   "id": "f72b317d",
   "metadata": {},
   "source": [
    "## Datasets"
   ]
  },
  {
   "cell_type": "markdown",
   "id": "fa8c80b0",
   "metadata": {},
   "source": [
    "Datasets used in the following experiments:\n",
    "\n",
    "1) GAP corpus\n",
    "2) UGI corpus\n",
    "\n",
    "The GAP corpus differs from the UGI corpus in that the GAP corpus has more metadata. Important metadata only in the GAP corpus includes utterance 'Duration' and 'End' metadata fields (describe temporal length of utterance). Features that depend on such metadata will therefore be exclusive to the GAP corpus."
   ]
  },
  {
   "cell_type": "markdown",
   "id": "9274bed8",
   "metadata": {},
   "source": [
    "## Experiments"
   ]
  },
  {
   "cell_type": "markdown",
   "id": "4ff4707d",
   "metadata": {},
   "source": [
    "ANALYSIS TYPES\n",
    "correlation, predictive (AGS)\n",
    "\n",
    "ALGORITHMS\n",
    "linear regression (baseline)\n",
    "random forest\n",
    "gradient boosted tree\n",
    "\n",
    "PROCESS\n",
    "5-fold cross validation\n",
    "feature selection?\n",
    "scatterplots/lineplots\n",
    "\n",
    "EVALUTATION\n",
    "mean squared error\n",
    "\n",
    "GROUPS\n",
    "align, dom, ...\n",
    "\n"
   ]
  },
  {
   "cell_type": "markdown",
   "id": "cad4d8df",
   "metadata": {},
   "source": []
  },
  {
   "cell_type": "markdown",
   "id": "3e8e375d",
   "metadata": {},
   "source": []
  },
  {
   "cell_type": "markdown",
   "id": "48f5e67f",
   "metadata": {},
   "source": []
  },
  {
   "cell_type": "code",
   "execution_count": null,
   "id": "aea9ca8f",
   "metadata": {},
   "outputs": [],
   "source": []
  },
  {
   "cell_type": "code",
   "execution_count": null,
   "id": "4ef99aec",
   "metadata": {},
   "outputs": [],
   "source": []
  },
  {
   "cell_type": "code",
   "execution_count": null,
   "id": "3a726fa6",
   "metadata": {},
   "outputs": [],
   "source": []
  }
 ],
 "metadata": {
  "kernelspec": {
   "display_name": "Python 3 (ipykernel)",
   "language": "python",
   "name": "python3"
  },
  "language_info": {
   "codemirror_mode": {
    "name": "ipython",
    "version": 3
   },
   "file_extension": ".py",
   "mimetype": "text/x-python",
   "name": "python",
   "nbconvert_exporter": "python",
   "pygments_lexer": "ipython3",
   "version": "3.10.10"
  }
 },
 "nbformat": 4,
 "nbformat_minor": 5
}
