{
 "cells": [
  {
   "cell_type": "markdown",
   "id": "9a72517b-accc-42de-babd-70bb84d08a5c",
   "metadata": {},
   "source": [
    "# Group Convo Analysis"
   ]
  },
  {
   "cell_type": "markdown",
   "id": "f72b317d",
   "metadata": {},
   "source": [
    "## Datasets"
   ]
  },
  {
   "cell_type": "markdown",
   "id": "fa8c80b0",
   "metadata": {},
   "source": [
    "Datasets used in the following experiments:\n",
    "\n",
    "1) GAP corpus\n",
    "2) UGI corpus\n",
    "\n",
    "The GAP corpus differs from the UGI corpus in that the GAP corpus has more metadata. Important metadata only in the GAP corpus includes utterance 'Duration' and 'End' metadata fields (describe temporal length of utterance). Features that depend on such metadata will therefore be exclusive to the GAP corpus."
   ]
  },
  {
   "cell_type": "markdown",
   "id": "9274bed8",
   "metadata": {},
   "source": [
    "## Analysis"
   ]
  },
  {
   "cell_type": "markdown",
   "id": "7ab9f638-41e2-4b8f-8b3c-002c69e12bbe",
   "metadata": {},
   "source": [
    "### Loading Data"
   ]
  },
  {
   "cell_type": "code",
   "execution_count": 1,
   "id": "25e70f1c-d7f0-485b-95b2-cec1479687c5",
   "metadata": {},
   "outputs": [],
   "source": [
    "import pandas as pd\n",
    "import numpy as np\n",
    "import matplotlib.pyplot as plt\n",
    "from sklearn.model_selection import KFold\n",
    "from sklearn.linear_model import LinearRegression\n",
    "from sklearn.ensemble import RandomForestRegressor, GradientBoostingRegressor\n",
    "from sklearn.neural_network import MLPRegressor\n",
    "from sklearn.preprocessing import StandardScaler\n",
    "from sklearn.feature_selection import SelectPercentile, f_regression\n",
    "from sklearn.metrics import mean_squared_error, r2_score\n",
    "\n",
    "import warnings\n",
    "from sklearn.exceptions import ConvergenceWarning\n",
    "warnings.filterwarnings('ignore', category=ConvergenceWarning)"
   ]
  },
  {
   "cell_type": "code",
   "execution_count": 2,
   "id": "a75596a0-697e-4e92-988f-efb63f5c5e71",
   "metadata": {},
   "outputs": [],
   "source": [
    "csv_path = '../../csv'\n",
    "\n",
    "gap_align_df = pd.read_csv(f'{csv_path}/gap-align.csv')\n",
    "gap_dom_df = pd.read_csv(f'{csv_path}/gap-dom.csv')\n",
    "gap_meta_df = pd.read_csv(f'{csv_path}/gap-meta.csv')\n",
    "gap_polite_df = pd.read_csv(f'{csv_path}/gap-polite.csv')\n",
    "gap_psych_df = pd.read_csv(f'{csv_path}/gap-psych.csv')\n",
    "\n",
    "ugi_align_df = pd.read_csv(f'{csv_path}/ugi-align.csv')\n",
    "ugi_dom_df = pd.read_csv(f'{csv_path}/ugi-dom.csv')\n",
    "ugi_meta_df = pd.read_csv(f'{csv_path}/ugi-meta.csv')\n",
    "ugi_polite_df = pd.read_csv(f'{csv_path}/ugi-polite.csv')\n",
    "ugi_psych_df = pd.read_csv(f'{csv_path}/ugi-psych.csv')"
   ]
  },
  {
   "cell_type": "markdown",
   "id": "b85fe964-b297-44b1-b193-adac1d914ca6",
   "metadata": {},
   "source": [
    "### Combining Data Groups"
   ]
  },
  {
   "cell_type": "markdown",
   "id": "09a6d919-6d43-4c00-9e8f-77be0d7a077d",
   "metadata": {},
   "source": [
    "Each data group from the GAP corpus is combined with its UGI counterpart. Analysis is performed on combined data groups and individual data groups (since some features are exclusive to the GAP corpus). 10-fold cross-validation is used for each dataset."
   ]
  },
  {
   "cell_type": "code",
   "execution_count": 3,
   "id": "2b4d1b10-509a-406b-a4ad-0b37e8e49f45",
   "metadata": {},
   "outputs": [],
   "source": [
    "# Note that the id column of meta_df does not necessarily hold unique values (depend on row num to remedy this)\n",
    "align_df = pd.concat([gap_align_df, ugi_align_df], ignore_index=True).dropna(axis=1)\n",
    "dom_df = pd.concat([gap_dom_df, ugi_dom_df], ignore_index=True).dropna(axis=1)\n",
    "meta_df = pd.concat([gap_meta_df, ugi_meta_df], ignore_index=True).dropna(axis=1)\n",
    "polite_df = pd.concat([gap_polite_df, ugi_polite_df], ignore_index=True).dropna(axis=1)\n",
    "psych_df = pd.concat([gap_psych_df, ugi_psych_df], ignore_index=True).dropna(axis=1)"
   ]
  },
  {
   "cell_type": "markdown",
   "id": "cad4d8df",
   "metadata": {},
   "source": [
    "### Predicting AGS"
   ]
  },
  {
   "cell_type": "code",
   "execution_count": 4,
   "id": "492bd172-fb00-44bf-8e48-bd44adedca8a",
   "metadata": {},
   "outputs": [],
   "source": [
    "# Parameter lr = LinearRegression\n",
    "# Parameter rfr = RandomForestRegressor\n",
    "# Parameter gbr = GradientBoostingRegressor\n",
    "# Parameter mlpr = MLPRegressor\n",
    "def data_group_regression(x, y, lr, rfr, gbr, mlpr, feat_percentage=None):\n",
    "    l_preds = regression_preds(x, y, lr, feat_percentage)\n",
    "    evaluate_preds('Linear Regression', y, l_preds)\n",
    "    \n",
    "    rf_preds = regression_preds(x, y, rfr, feat_percentage)\n",
    "    evaluate_preds('Random Forest', y, rf_preds)\n",
    "    \n",
    "    gb_preds = regression_preds(x, y, gbr, feat_percentage)\n",
    "    evaluate_preds('Gradient Boosting', y, gb_preds)\n",
    "    \n",
    "    mlp_preds = regression_preds(x, y, mlpr, feat_percentage, True)\n",
    "    evaluate_preds('Neural Network', y, mlp_preds)\n",
    "\n",
    "\n",
    "# To use less than 100% of features, set parameter feat_percentage\n",
    "def regression_preds(x, y, regressor, feat_percentage=None, scaled=False):\n",
    "    kf = KFold(n_splits=10)\n",
    "    preds = []\n",
    "    \n",
    "    for train, test in kf.split(x):\n",
    "        x_train = x.iloc[train]\n",
    "        y_train = y.iloc[train]\n",
    "        x_test = x.iloc[test]\n",
    "\n",
    "        if scaled:\n",
    "            scaler = StandardScaler().set_output(transform=\"pandas\").fit(x_train)\n",
    "            x_train = scaler.transform(x_train)\n",
    "            x_test = scaler.transform(x_test)\n",
    "\n",
    "        if feat_percentage:\n",
    "            x_train, x_test = select_features(\n",
    "                x_train, y_train, x_test, feat_percentage\n",
    "            )\n",
    "            \n",
    "        regressor.fit(x_train, y_train)\n",
    "        new_preds = regressor.predict(x_test)\n",
    "        preds.extend(list(new_preds))\n",
    "\n",
    "    return preds\n",
    "\n",
    "\n",
    "def select_features(x_train, y_train, x_test, feat_percentage):\n",
    "\n",
    "    if not (0 < feat_percentage < 100):\n",
    "        raise Exception(\n",
    "            'Parameter feat_percentage must be a value in range (0, 100)'\n",
    "        )\n",
    "\n",
    "    selector = SelectPercentile(f_regression, percentile=feat_percentage)\n",
    "    selector.fit_transform(x_train, y_train)\n",
    "    selected_cols = selector.get_support()\n",
    "    \n",
    "    selected_feats = x_train.columns.values[selected_cols]\n",
    "    \n",
    "    x_train_sub = x_train[selected_feats]\n",
    "    x_test_sub = x_test[selected_feats]\n",
    "\n",
    "    return x_train_sub, x_test_sub\n",
    "        \n",
    "\n",
    "def evaluate_preds(title, y, preds):\n",
    "    mse = mean_squared_error(y, preds)\n",
    "    r2 = r2_score(y, preds)\n",
    "    print(title)\n",
    "    print(\"\\tMSE:\", mse)\n",
    "    print(\"\\tR^2 score:\", r2)"
   ]
  },
  {
   "cell_type": "markdown",
   "id": "cb821896-845b-4c5d-a781-20acdb2b73cf",
   "metadata": {},
   "source": [
    "#### Exp 1 - Combined Align Data Group"
   ]
  },
  {
   "cell_type": "code",
   "execution_count": 21,
   "id": "af3dab4f-8ea0-414b-8fef-defbb1f775db",
   "metadata": {
    "scrolled": true
   },
   "outputs": [
    {
     "name": "stdout",
     "output_type": "stream",
     "text": [
      "Feature percentage = 100%\n",
      "\n",
      "Linear Regression\n",
      "\tMSE: 488.07335617132907\n",
      "\tR^2 score: 0.044289437752003336\n",
      "Random Forest\n",
      "\tMSE: 415.9189364399946\n",
      "\tR^2 score: 0.18557709498257946\n",
      "Gradient Boosting\n",
      "\tMSE: 393.3041373864552\n",
      "\tR^2 score: 0.229859787420715\n",
      "Neural Network\n",
      "\tMSE: 2575.4355122462184\n",
      "\tR^2 score: -4.043034802699356\n",
      "\n",
      "Feature percentage = 50%\n",
      "\n",
      "Linear Regression\n",
      "\tMSE: 441.87571977639675\n",
      "\tR^2 score: 0.13475036641214244\n",
      "Random Forest\n",
      "\tMSE: 405.95595586719685\n",
      "\tR^2 score: 0.2050858955440097\n",
      "Gradient Boosting\n",
      "\tMSE: 462.6408950728179\n",
      "\tR^2 score: 0.09408947577595195\n",
      "Neural Network\n",
      "\tMSE: 2546.5738166984356\n",
      "\tR^2 score: -3.9865198814674754\n"
     ]
    }
   ],
   "source": [
    "df = align_df.join(meta_df)\n",
    "X = df.drop(['id', 'ags'], axis=1)\n",
    "y = df['ags']\n",
    "\n",
    "lr = LinearRegression()\n",
    "rfr = RandomForestRegressor(max_depth=6, max_features=1/3, random_state=0)\n",
    "gbr = GradientBoostingRegressor(max_depth=4, max_features=1/3, random_state=0)\n",
    "mlpr = MLPRegressor(hidden_layer_sizes=(5), max_iter=1000, activation='relu', random_state=0)\n",
    "\n",
    "print('Feature percentage = 100%\\n')\n",
    "data_group_regression(X, y, lr, rfr, gbr, mlpr)\n",
    "\n",
    "feat_perc = 25\n",
    "print(f'\\nFeature percentage = {feat_perc}%\\n')\n",
    "data_group_regression(X, y, lr, rfr, gbr, mlpr, feat_perc)"
   ]
  },
  {
   "cell_type": "markdown",
   "id": "ab21dc93-4344-45f1-82eb-d5ab2b250034",
   "metadata": {},
   "source": [
    "#### Exp 2 - Individual Align Data Groups"
   ]
  },
  {
   "cell_type": "code",
   "execution_count": 24,
   "id": "6074884a-59ae-46c1-9da0-fbf7f933ef59",
   "metadata": {},
   "outputs": [
    {
     "name": "stdout",
     "output_type": "stream",
     "text": [
      "\n",
      " GAP DATASET \n",
      "\n",
      "Feature percentage = 100%\n",
      "\n",
      "Linear Regression\n",
      "\tMSE: 384.17913727114734\n",
      "\tR^2 score: -1.478187607439419\n",
      "Random Forest\n",
      "\tMSE: 154.4126566445844\n",
      "\tR^2 score: 0.003945048014594832\n",
      "Gradient Boosting\n",
      "\tMSE: 145.40477454944448\n",
      "\tR^2 score: 0.06205133128654616\n",
      "Neural Network\n",
      "\tMSE: 3839.7331738182693\n",
      "\tR^2 score: -23.76859944769599\n",
      "\n",
      "Feature percentage = 50%\n",
      "\n",
      "Linear Regression\n",
      "\tMSE: 258.92866566390427\n",
      "\tR^2 score: -0.6702463726087999\n",
      "Random Forest\n",
      "\tMSE: 157.9888473242889\n",
      "\tR^2 score: -0.019123543078703342\n",
      "Gradient Boosting\n",
      "\tMSE: 155.79588931943746\n",
      "\tR^2 score: -0.0049776386710354\n",
      "Neural Network\n",
      "\tMSE: 4321.4941665471215\n",
      "\tR^2 score: -26.87624899475019\n",
      "\n",
      " UGI DATASET \n",
      "\n",
      "Feature percentage = 100%\n",
      "\n",
      "Linear Regression\n",
      "\tMSE: 1086.7202667476429\n",
      "\tR^2 score: -11.223961353208585\n",
      "Random Forest\n",
      "\tMSE: 110.86205643891184\n",
      "\tR^2 score: -0.24703066181168798\n",
      "Gradient Boosting\n",
      "\tMSE: 138.45492465131963\n",
      "\tR^2 score: -0.5574087461940758\n",
      "Neural Network\n",
      "\tMSE: 689.852014397013\n",
      "\tR^2 score: -6.759793041000145\n",
      "\n",
      "Feature percentage = 50%\n",
      "\n",
      "Linear Regression\n",
      "\tMSE: 248.96441219773186\n",
      "\tR^2 score: -1.800473540571307\n",
      "Random Forest\n",
      "\tMSE: 119.20448694786664\n",
      "\tR^2 score: -0.34087040259290324\n",
      "Gradient Boosting\n",
      "\tMSE: 136.35266221726224\n",
      "\tR^2 score: -0.5337614695815494\n",
      "Neural Network\n",
      "\tMSE: 755.8525656789208\n",
      "\tR^2 score: -7.502199539569528\n"
     ]
    }
   ],
   "source": [
    "gap_df = gap_align_df.join(gap_meta_df)\n",
    "gap_X = gap_df.drop(['id', 'ags'], axis=1)\n",
    "gap_y = gap_df['ags']\n",
    "\n",
    "ugi_df = ugi_align_df.join(ugi_meta_df)\n",
    "ugi_X = ugi_df.drop(['id', 'ags'], axis=1)\n",
    "ugi_y = ugi_df['ags']\n",
    "\n",
    "dataset_params = {\n",
    "    'GAP': (gap_X, gap_y), \n",
    "    'UGI': (ugi_X, ugi_y)\n",
    "}\n",
    "\n",
    "for key, (X, y) in dataset_params.items():\n",
    "    print('\\n', key, 'DATASET', '\\n')\n",
    "    \n",
    "    lr = LinearRegression()\n",
    "    rfr = RandomForestRegressor(max_depth=3, max_features=1/3, random_state=0)\n",
    "    gbr = GradientBoostingRegressor(max_depth=4, max_features=1/3, random_state=0)\n",
    "    mlpr = MLPRegressor(hidden_layer_sizes=(4), max_iter=1000, activation='relu', random_state=0)\n",
    "    \n",
    "    print('Feature percentage = 100%\\n')\n",
    "    data_group_regression(X, y, lr, rfr, gbr, mlpr)\n",
    "    \n",
    "    feat_perc = 25\n",
    "    print(f'\\nFeature percentage = {feat_perc}%\\n')\n",
    "    data_group_regression(X, y, lr, rfr, gbr, mlpr, feat_perc)"
   ]
  },
  {
   "cell_type": "markdown",
   "id": "fb4d46e7-4c2e-4974-b689-316b23009969",
   "metadata": {},
   "source": [
    "#### Exp 3 - Combined Dom Data Group"
   ]
  },
  {
   "cell_type": "code",
   "execution_count": 57,
   "id": "425ea0d4-973a-49a7-82d3-b46828b643fd",
   "metadata": {},
   "outputs": [
    {
     "name": "stdout",
     "output_type": "stream",
     "text": [
      "Feature percentage = 100%\n",
      "\n",
      "Linear Regression\n",
      "\tMSE: 388.4520504363389\n",
      "\tR^2 score: 0.23936079928407106\n",
      "Random Forest\n",
      "\tMSE: 351.59264830679354\n",
      "\tR^2 score: 0.31153626120579714\n",
      "Gradient Boosting\n",
      "\tMSE: 354.12900153350654\n",
      "\tR^2 score: 0.3065697545573366\n",
      "Neural Network\n",
      "\tMSE: 3476.0098361477285\n",
      "\tR^2 score: -5.8064754465272745\n",
      "\n",
      "Feature percentage = 50%\n",
      "\n",
      "Linear Regression\n",
      "\tMSE: 422.71457328759914\n",
      "\tR^2 score: 0.17227036182385003\n",
      "Random Forest\n",
      "\tMSE: 471.1124085206859\n",
      "\tR^2 score: 0.0775011601508897\n",
      "Gradient Boosting\n",
      "\tMSE: 651.1555915383343\n",
      "\tR^2 score: -0.2750466064809649\n",
      "Neural Network\n",
      "\tMSE: 3257.6556403301797\n",
      "\tR^2 score: -5.378909777114367\n"
     ]
    }
   ],
   "source": [
    "df = dom_df.join(meta_df)\n",
    "X = df.drop(['id', 'ags'], axis=1)\n",
    "y = df['ags']\n",
    "\n",
    "lr = LinearRegression()\n",
    "rfr = RandomForestRegressor(max_depth=6, max_features=1/3, random_state=0)\n",
    "gbr = GradientBoostingRegressor(max_depth=4, max_features=1/3, random_state=0)\n",
    "mlpr = MLPRegressor(hidden_layer_sizes=(1), max_iter=1000, activation='relu', random_state=0)\n",
    "\n",
    "print('Feature percentage = 100%\\n')\n",
    "data_group_regression(X, y, lr, rfr, gbr, mlpr)\n",
    "\n",
    "feat_perc = 75\n",
    "print(f'\\nFeature percentage = {feat_perc}%\\n')\n",
    "data_group_regression(X, y, lr, rfr, gbr, mlpr, feat_perc)"
   ]
  },
  {
   "cell_type": "markdown",
   "id": "00f08c52-b1f2-4dbd-84cb-f9cbb9ba433c",
   "metadata": {},
   "source": [
    "#### Exp 4 - Individual Dom Data Groups"
   ]
  },
  {
   "cell_type": "code",
   "execution_count": 38,
   "id": "fd62f557-3c0b-4b0f-81a9-44d39c9a589b",
   "metadata": {
    "scrolled": true
   },
   "outputs": [
    {
     "name": "stdout",
     "output_type": "stream",
     "text": [
      "\n",
      "GAP DATASET\n",
      "\n",
      "Feature percentage = 100%\n",
      "\n",
      "Linear Regression\n",
      "\tMSE: 197.11177258787373\n",
      "\tR^2 score: -0.2714900542944487\n",
      "Random Forest\n",
      "\tMSE: 183.5730041335352\n",
      "\tR^2 score: -0.18415681584258192\n",
      "Gradient Boosting\n",
      "\tMSE: 173.6349375998323\n",
      "\tR^2 score: -0.12005028080096536\n",
      "Neural Network\n",
      "\tMSE: 4577.586767729348\n",
      "\tR^2 score: -28.528201037525474\n",
      "\n",
      "Feature percentage = 75%\n",
      "\n",
      "Linear Regression\n",
      "\tMSE: 202.11850286994041\n",
      "\tR^2 score: -0.303786490344937\n",
      "Random Forest\n",
      "\tMSE: 217.41893169508901\n",
      "\tR^2 score: -0.40248350281761236\n",
      "Gradient Boosting\n",
      "\tMSE: 228.1693310258338\n",
      "\tR^2 score: -0.4718300753194751\n",
      "Neural Network\n",
      "\tMSE: 4300.071504681372\n",
      "\tR^2 score: -26.738059879299612\n",
      "\n",
      "UGI DATASET\n",
      "\n",
      "Feature percentage = 100%\n",
      "\n",
      "Linear Regression\n",
      "\tMSE: 133.35506192185505\n",
      "\tR^2 score: -0.5000429945658138\n",
      "Random Forest\n",
      "\tMSE: 104.22976954939237\n",
      "\tR^2 score: -0.17242745333052656\n",
      "Gradient Boosting\n",
      "\tMSE: 111.67308447424939\n",
      "\tR^2 score: -0.25615350203441234\n",
      "Neural Network\n",
      "\tMSE: 1138.5884770091905\n",
      "\tR^2 score: -11.807400364238356\n",
      "\n",
      "Feature percentage = 75%\n",
      "\n",
      "Linear Regression\n",
      "\tMSE: 118.3543882544168\n",
      "\tR^2 score: -0.3313080764882803\n",
      "Random Forest\n",
      "\tMSE: 114.3572425494408\n",
      "\tR^2 score: -0.2863462255724025\n",
      "Gradient Boosting\n",
      "\tMSE: 143.81035301331983\n",
      "\tR^2 score: -0.6176492251196146\n",
      "Neural Network\n",
      "\tMSE: 1071.3147485819825\n",
      "\tR^2 score: -11.050672546102058\n"
     ]
    }
   ],
   "source": [
    "gap_df = gap_dom_df.join(gap_meta_df)\n",
    "gap_X = gap_df.drop(['id', 'ags'], axis=1)\n",
    "gap_y = gap_df['ags']\n",
    "\n",
    "ugi_df = ugi_dom_df.join(ugi_meta_df)\n",
    "ugi_X = ugi_df.drop(['id', 'ags'], axis=1)\n",
    "ugi_y = ugi_df['ags']\n",
    "\n",
    "dataset_params = {\n",
    "    'GAP': {\n",
    "        'data': (gap_X, gap_y),\n",
    "        'mlpr': MLPRegressor(\n",
    "            hidden_layer_sizes=(2), max_iter=1000, activation='relu', random_state=0\n",
    "        )\n",
    "    },\n",
    "    'UGI': {\n",
    "        'data': (ugi_X, ugi_y),\n",
    "        'mlpr': MLPRegressor(\n",
    "            hidden_layer_sizes=(1), max_iter=1000, activation='relu', random_state=0\n",
    "        )\n",
    "    }\n",
    "}\n",
    "\n",
    "for key, params in dataset_params.items():\n",
    "    print()\n",
    "    print(key, 'DATASET')\n",
    "    print()\n",
    "\n",
    "    X, y = params['data']\n",
    "    \n",
    "    lr = LinearRegression()\n",
    "    rfr = RandomForestRegressor(max_depth=3, max_features=1/3, random_state=0)\n",
    "    gbr = GradientBoostingRegressor(max_depth=4, max_features=1/3, random_state=0)\n",
    "    mlpr = params['mlpr']\n",
    "    \n",
    "    print('Feature percentage = 100%\\n')\n",
    "    data_group_regression(X, y, lr, rfr, gbr, mlpr)\n",
    "    \n",
    "    feat_perc = 50\n",
    "    print(f'\\nFeature percentage = {feat_perc}%\\n')\n",
    "    data_group_regression(X, y, lr, rfr, gbr, mlpr, feat_perc)"
   ]
  },
  {
   "cell_type": "markdown",
   "id": "e7a7c1d7-1a4e-422c-9215-cd5ecbcfa328",
   "metadata": {},
   "source": [
    "#### Exp 5 - Combined Polite Data Group"
   ]
  },
  {
   "cell_type": "code",
   "execution_count": 55,
   "id": "2eb0c817-699a-429d-93f3-c28ee957a6ef",
   "metadata": {},
   "outputs": [
    {
     "name": "stdout",
     "output_type": "stream",
     "text": [
      "Feature percentage = 100%\n",
      "\n",
      "Linear Regression\n",
      "\tMSE: 324.83108385932957\n",
      "\tR^2 score: 0.36393885495800293\n",
      "Random Forest\n",
      "\tMSE: 431.44767804518574\n",
      "\tR^2 score: 0.15516981668547958\n",
      "Gradient Boosting\n",
      "\tMSE: 456.83569612211\n",
      "\tR^2 score: 0.1054568038281617\n",
      "Neural Network\n",
      "\tMSE: 1624.6313183369473\n",
      "\tR^2 score: -2.1812375968920326\n",
      "\n",
      "Feature percentage = 25%\n",
      "\n",
      "Linear Regression\n",
      "\tMSE: 381.3619455851978\n",
      "\tR^2 score: 0.25324413876163654\n",
      "Random Forest\n",
      "\tMSE: 390.03638437468527\n",
      "\tR^2 score: 0.23625846915303628\n",
      "Gradient Boosting\n",
      "\tMSE: 478.9728511495369\n",
      "\tR^2 score: 0.062109399979289215\n",
      "Neural Network\n",
      "\tMSE: 2996.0101571977852\n",
      "\tR^2 score: -4.866574185276956\n"
     ]
    }
   ],
   "source": [
    "df = polite_df.join(meta_df)\n",
    "X = df.drop(['id', 'ags'], axis=1)\n",
    "y = df['ags']\n",
    "\n",
    "lr = LinearRegression()\n",
    "rfr = RandomForestRegressor(max_depth=6, max_features=1/3, random_state=0)\n",
    "gbr = GradientBoostingRegressor(max_depth=4, max_features=1/3, random_state=0)\n",
    "mlpr = MLPRegressor(hidden_layer_sizes=(4), max_iter=1000, activation='relu', random_state=0)\n",
    "\n",
    "print('Feature percentage = 100%\\n')\n",
    "data_group_regression(X, y, lr, rfr, gbr, mlpr)\n",
    "\n",
    "feat_perc = 25\n",
    "print(f'\\nFeature percentage = {feat_perc}%\\n')\n",
    "data_group_regression(X, y, lr, rfr, gbr, mlpr, feat_perc)"
   ]
  },
  {
   "cell_type": "markdown",
   "id": "0049217d-f295-4b1f-a1a3-bb1467ed8806",
   "metadata": {},
   "source": [
    "#### Exp 6 - Combined Psych Data Group"
   ]
  },
  {
   "cell_type": "code",
   "execution_count": 49,
   "id": "dfa1cf32-0e54-49a9-8431-81781e0c77dd",
   "metadata": {},
   "outputs": [
    {
     "name": "stdout",
     "output_type": "stream",
     "text": [
      "Feature percentage = 100%\n",
      "\n",
      "Linear Regression\n",
      "\tMSE: 631.1033683199008\n",
      "\tR^2 score: -0.2357817679395957\n",
      "Random Forest\n",
      "\tMSE: 502.7865893696937\n",
      "\tR^2 score: 0.015479030064928345\n",
      "Gradient Boosting\n",
      "\tMSE: 611.5648091783905\n",
      "\tR^2 score: -0.19752274989130525\n",
      "Neural Network\n",
      "\tMSE: 1053.288896310023\n",
      "\tR^2 score: -1.0624754672096093\n",
      "\n",
      "Feature percentage = 10%\n",
      "\n",
      "Linear Regression\n",
      "\tMSE: 427.89181385550495\n",
      "\tR^2 score: 0.16213265725242998\n",
      "Random Forest\n",
      "\tMSE: 368.75830161305635\n",
      "\tR^2 score: 0.27792369873901135\n",
      "Gradient Boosting\n",
      "\tMSE: 459.05185558683297\n",
      "\tR^2 score: 0.10111727785059921\n",
      "Neural Network\n",
      "\tMSE: 2334.11868015326\n",
      "\tR^2 score: -3.570505330718696\n"
     ]
    }
   ],
   "source": [
    "df = psych_df.join(meta_df)\n",
    "X = df.drop(['id', 'ags'], axis=1)\n",
    "y = df['ags']\n",
    "\n",
    "lr = LinearRegression()\n",
    "rfr = RandomForestRegressor(max_depth=6, max_features=1/3, random_state=0)\n",
    "gbr = GradientBoostingRegressor(max_depth=4, max_features=1/3, random_state=0)\n",
    "mlpr = MLPRegressor(hidden_layer_sizes=(7), max_iter=1000, activation='relu', random_state=0)\n",
    "\n",
    "print('Feature percentage = 100%\\n')\n",
    "data_group_regression(X, y, lr, rfr, gbr, mlpr)\n",
    "\n",
    "feat_perc = 10\n",
    "print(f'\\nFeature percentage = {feat_perc}%\\n')\n",
    "data_group_regression(X, y, lr, rfr, gbr, mlpr, feat_perc)"
   ]
  },
  {
   "cell_type": "markdown",
   "id": "642a1c7b-c9c2-4c09-9197-ab8edaee2138",
   "metadata": {},
   "source": [
    "#### Exp 7 - Combined Align-Dom Group"
   ]
  },
  {
   "cell_type": "code",
   "execution_count": 52,
   "id": "312bbac8-77f0-46ee-b26a-4db18fc027f3",
   "metadata": {},
   "outputs": [
    {
     "name": "stdout",
     "output_type": "stream",
     "text": [
      "Feature percentage = 100%\n",
      "\n",
      "Linear Regression\n",
      "\tMSE: 503.37969696318845\n",
      "\tR^2 score: 0.014317648923169224\n",
      "Random Forest\n",
      "\tMSE: 420.1252404943165\n",
      "\tR^2 score: 0.17734060929469675\n",
      "Gradient Boosting\n",
      "\tMSE: 431.989368600223\n",
      "\tR^2 score: 0.15410911673459493\n",
      "Neural Network\n",
      "\tMSE: 2073.267321411483\n",
      "\tR^2 score: -3.0597247368303746\n",
      "\n",
      "Feature percentage = 10%\n",
      "\n",
      "Linear Regression\n",
      "\tMSE: 422.71457328759914\n",
      "\tR^2 score: 0.17227036182385003\n",
      "Random Forest\n",
      "\tMSE: 471.1124085206859\n",
      "\tR^2 score: 0.0775011601508897\n",
      "Gradient Boosting\n",
      "\tMSE: 651.1555915383343\n",
      "\tR^2 score: -0.2750466064809649\n",
      "Neural Network\n",
      "\tMSE: 3486.830018298541\n",
      "\tR^2 score: -5.827662758303721\n"
     ]
    }
   ],
   "source": [
    "# 11 features\n",
    "\n",
    "df = align_df.join(dom_df).join(meta_df)\n",
    "X = df.drop(['id', 'ags'], axis=1)\n",
    "y = df['ags']\n",
    "\n",
    "lr = LinearRegression()\n",
    "rfr = RandomForestRegressor(max_depth=6, max_features=1/3, random_state=0)\n",
    "gbr = GradientBoostingRegressor(max_depth=4, max_features=1/3, random_state=0)\n",
    "mlpr = MLPRegressor(hidden_layer_sizes=(6), max_iter=1000, activation='relu', random_state=3)\n",
    "\n",
    "print('Feature percentage = 100%\\n')\n",
    "data_group_regression(X, y, lr, rfr, gbr, mlpr)\n",
    "\n",
    "feat_perc = 25\n",
    "print(f'\\nFeature percentage = {feat_perc}%\\n')\n",
    "data_group_regression(X, y, lr, rfr, gbr, mlpr, feat_perc)"
   ]
  },
  {
   "cell_type": "markdown",
   "id": "508286c4-2230-4ccc-a92d-8d60757e7433",
   "metadata": {},
   "source": [
    "#### Exp 8 - Combined Align-Polite Group"
   ]
  },
  {
   "cell_type": "code",
   "execution_count": 59,
   "id": "ebf9fb13-04ba-4c76-b6a3-0feb62fcc2f7",
   "metadata": {},
   "outputs": [
    {
     "name": "stdout",
     "output_type": "stream",
     "text": [
      "Feature percentage = 100%\n",
      "\n",
      "Linear Regression\n",
      "\tMSE: 489.0783161658854\n",
      "\tR^2 score: 0.0423215965058259\n",
      "Random Forest\n",
      "\tMSE: 432.2966307419384\n",
      "\tR^2 score: 0.1535074578435629\n",
      "Gradient Boosting\n",
      "\tMSE: 413.9258992433045\n",
      "\tR^2 score: 0.18947971879054892\n",
      "Neural Network\n",
      "\tMSE: 965.4339032838898\n",
      "\tR^2 score: -0.8904440630781665\n",
      "\n",
      "Feature percentage = 25%\n",
      "\n",
      "Linear Regression\n",
      "\tMSE: 436.07062542061846\n",
      "\tR^2 score: 0.14611748965399385\n",
      "Random Forest\n",
      "\tMSE: 505.39748571392295\n",
      "\tR^2 score: 0.010366558380981994\n",
      "Gradient Boosting\n",
      "\tMSE: 621.3136693668431\n",
      "\tR^2 score: -0.2166122751320818\n",
      "Neural Network\n",
      "\tMSE: 2357.429825375033\n",
      "\tR^2 score: -3.616151558739233\n"
     ]
    }
   ],
   "source": [
    "# 16 features\n",
    "\n",
    "df = align_df.join(polite_df).join(meta_df)\n",
    "X = df.drop(['id', 'ags'], axis=1)\n",
    "y = df['ags']\n",
    "\n",
    "lr = LinearRegression()\n",
    "rfr = RandomForestRegressor(max_depth=6, max_features=1/3, random_state=0)\n",
    "gbr = GradientBoostingRegressor(max_depth=4, max_features=1/3, random_state=0)\n",
    "mlpr = MLPRegressor(hidden_layer_sizes=(8), max_iter=1000, activation='relu', random_state=0)\n",
    "\n",
    "print('Feature percentage = 100%\\n')\n",
    "data_group_regression(X, y, lr, rfr, gbr, mlpr)\n",
    "\n",
    "feat_perc = 10\n",
    "print(f'\\nFeature percentage = {feat_perc}%\\n')\n",
    "data_group_regression(X, y, lr, rfr, gbr, mlpr, feat_perc)"
   ]
  },
  {
   "cell_type": "markdown",
   "id": "cc2fb7c4-d28d-4e0f-b264-2acfcc5fd716",
   "metadata": {},
   "source": [
    "#### Exp 9 - Combined Dom-Polite Group"
   ]
  },
  {
   "cell_type": "code",
   "execution_count": 64,
   "id": "6a080081-3ef6-4c75-8be6-5d147b2cc504",
   "metadata": {},
   "outputs": [
    {
     "name": "stdout",
     "output_type": "stream",
     "text": [
      "Feature percentage = 100%\n",
      "\n",
      "Linear Regression\n",
      "\tMSE: 362.0303144192739\n",
      "\tR^2 score: 0.2910979651529927\n",
      "Random Forest\n",
      "\tMSE: 444.88310727236336\n",
      "\tR^2 score: 0.12886151393059275\n",
      "Gradient Boosting\n",
      "\tMSE: 484.8536282764667\n",
      "\tR^2 score: 0.05059408011319033\n",
      "Neural Network\n",
      "\tMSE: 2224.968074788778\n",
      "\tR^2 score: -3.356774371829844\n",
      "\n",
      "Feature percentage = 10%\n",
      "\n",
      "Linear Regression\n",
      "\tMSE: 422.71457328759914\n",
      "\tR^2 score: 0.17227036182385003\n",
      "Random Forest\n",
      "\tMSE: 471.1124085206859\n",
      "\tR^2 score: 0.0775011601508897\n",
      "Gradient Boosting\n",
      "\tMSE: 651.1555915383343\n",
      "\tR^2 score: -0.2750466064809649\n",
      "Neural Network\n",
      "\tMSE: 2417.506220749185\n",
      "\tR^2 score: -3.733788886970502\n"
     ]
    }
   ],
   "source": [
    "# 9 features\n",
    "\n",
    "df = dom_df.join(polite_df).join(meta_df)\n",
    "X = df.drop(['id', 'ags'], axis=1)\n",
    "y = df['ags']\n",
    "\n",
    "lr = LinearRegression()\n",
    "rfr = RandomForestRegressor(max_depth=6, max_features=1/3, random_state=0)\n",
    "gbr = GradientBoostingRegressor(max_depth=4, max_features=1/3, random_state=0)\n",
    "mlpr = MLPRegressor(hidden_layer_sizes=(5), max_iter=1000, activation='relu', random_state=0)\n",
    "\n",
    "print('Feature percentage = 100%\\n')\n",
    "data_group_regression(X, y, lr, rfr, gbr, mlpr)\n",
    "\n",
    "feat_perc = 25\n",
    "print(f'\\nFeature percentage = {feat_perc}%\\n')\n",
    "data_group_regression(X, y, lr, rfr, gbr, mlpr, feat_perc)"
   ]
  },
  {
   "cell_type": "markdown",
   "id": "e371a66a-c26e-4ccc-ab21-4633de746e62",
   "metadata": {},
   "source": [
    "#### Exp 10 - Combined Align-Dom-Polite Group"
   ]
  },
  {
   "cell_type": "code",
   "execution_count": 66,
   "id": "d015a190-4d3e-4bbe-9abe-2889d81a7e09",
   "metadata": {},
   "outputs": [
    {
     "name": "stdout",
     "output_type": "stream",
     "text": [
      "Feature percentage = 100%\n",
      "\n",
      "Linear Regression\n",
      "\tMSE: 561.4961693600501\n",
      "\tR^2 score: -0.09948189741137314\n",
      "Random Forest\n",
      "\tMSE: 439.75917193919895\n",
      "\tR^2 score: 0.1388948399793556\n",
      "Gradient Boosting\n",
      "\tMSE: 437.17124701971187\n",
      "\tR^2 score: 0.1439623306517831\n",
      "Neural Network\n",
      "\tMSE: 897.0960115457932\n",
      "\tR^2 score: -0.7566296597511943\n",
      "\n",
      "Feature percentage = 5%\n",
      "\n",
      "Linear Regression\n",
      "\tMSE: 422.71457328759914\n",
      "\tR^2 score: 0.17227036182385003\n",
      "Random Forest\n",
      "\tMSE: 471.1124085206859\n",
      "\tR^2 score: 0.0775011601508897\n",
      "Gradient Boosting\n",
      "\tMSE: 651.1555915383343\n",
      "\tR^2 score: -0.2750466064809649\n",
      "Neural Network\n",
      "\tMSE: 2146.6137620689233\n",
      "\tR^2 score: -3.203346524730234\n"
     ]
    }
   ],
   "source": [
    "# 17 features\n",
    "\n",
    "df = align_df.join(dom_df).join(polite_df).join(meta_df)\n",
    "X = df.drop(['id', 'ags'], axis=1)\n",
    "y = df['ags']\n",
    "\n",
    "lr = LinearRegression()\n",
    "rfr = RandomForestRegressor(max_depth=6, max_features=1/3, random_state=0)\n",
    "gbr = GradientBoostingRegressor(max_depth=4, max_features=1/3, random_state=0)\n",
    "mlpr = MLPRegressor(hidden_layer_sizes=(8), max_iter=1000, activation='relu', random_state=0)\n",
    "\n",
    "print('Feature percentage = 100%\\n')\n",
    "data_group_regression(X, y, lr, rfr, gbr, mlpr)\n",
    "\n",
    "feat_perc = 15\n",
    "print(f'\\nFeature percentage = {feat_perc}%\\n')\n",
    "data_group_regression(X, y, lr, rfr, gbr, mlpr, feat_perc)"
   ]
  },
  {
   "cell_type": "code",
   "execution_count": null,
   "id": "c6f4d787-84b7-4280-8667-3b1679af3f32",
   "metadata": {},
   "outputs": [],
   "source": []
  },
  {
   "cell_type": "markdown",
   "id": "c963c2e0-790c-4fc0-b338-393d633884b9",
   "metadata": {},
   "source": [
    "## Summary of Results"
   ]
  },
  {
   "cell_type": "markdown",
   "id": "12d5ef87-de4e-4519-b15c-6b713bbcde89",
   "metadata": {},
   "source": [
    "Summary"
   ]
  }
 ],
 "metadata": {
  "kernelspec": {
   "display_name": "Python 3 (ipykernel)",
   "language": "python",
   "name": "python3"
  },
  "language_info": {
   "codemirror_mode": {
    "name": "ipython",
    "version": 3
   },
   "file_extension": ".py",
   "mimetype": "text/x-python",
   "name": "python",
   "nbconvert_exporter": "python",
   "pygments_lexer": "ipython3",
   "version": "3.11.4"
  }
 },
 "nbformat": 4,
 "nbformat_minor": 5
}
